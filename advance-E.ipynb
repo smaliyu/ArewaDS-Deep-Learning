{
  "nbformat": 4,
  "nbformat_minor": 0,
  "metadata": {
    "colab": {
      "provenance": [],
      "gpuType": "T4"
    },
    "kernelspec": {
      "name": "python3",
      "display_name": "Python 3"
    },
    "language_info": {
      "name": "python"
    },
    "accelerator": "GPU"
  },
  "cells": [
    {
      "cell_type": "markdown",
      "source": [
        "\n",
        "# Question 1. Loading our data..."
      ],
      "metadata": {
        "id": "ANSpR2ghvKm1"
      }
    },
    {
      "cell_type": "code",
      "execution_count": 61,
      "metadata": {
        "id": "5FxnoSws1fxt"
      },
      "outputs": [],
      "source": [
        "import zipfile\n",
        "import pandas as pd\n",
        "import torch\n",
        "import numpy as np"
      ]
    },
    {
      "cell_type": "code",
      "source": [
        "# download dataset in colab env\n",
        "!wget https://archive.ics.uci.edu/static/public/607/synchronous+machine+data+set.zip -O data.zip"
      ],
      "metadata": {
        "colab": {
          "base_uri": "https://localhost:8080/"
        },
        "id": "hOEuV6Wf1qCx",
        "outputId": "d2a47565-dccb-4c5c-8a89-2cf7765e855c"
      },
      "execution_count": 62,
      "outputs": [
        {
          "output_type": "stream",
          "name": "stdout",
          "text": [
            "--2024-01-02 11:57:33--  https://archive.ics.uci.edu/static/public/607/synchronous+machine+data+set.zip\n",
            "Resolving archive.ics.uci.edu (archive.ics.uci.edu)... 128.195.10.252\n",
            "Connecting to archive.ics.uci.edu (archive.ics.uci.edu)|128.195.10.252|:443... connected.\n",
            "HTTP request sent, awaiting response... 200 OK\n",
            "Length: unspecified\n",
            "Saving to: ‘data.zip’\n",
            "\n",
            "\rdata.zip                [<=>                 ]       0  --.-KB/s               \rdata.zip                [ <=>                ]  14.37K  --.-KB/s    in 0.008s  \n",
            "\n",
            "2024-01-02 11:57:33 (1.70 MB/s) - ‘data.zip’ saved [14713]\n",
            "\n"
          ]
        }
      ]
    },
    {
      "cell_type": "code",
      "source": [
        "# unzip data\n",
        "with zipfile.ZipFile(\"data.zip\", 'r') as my_zip:\n",
        "  my_zip.extractall()"
      ],
      "metadata": {
        "id": "Y0AftFQz1uzz"
      },
      "execution_count": 63,
      "outputs": []
    },
    {
      "cell_type": "code",
      "source": [
        "# read csv and parse to pandas\n",
        "dataset_name = \"synchronous machine.csv\"\n",
        "data = pd.read_csv(dataset_name, delimiter=\";\", thousands=',')\n",
        "data[:5]"
      ],
      "metadata": {
        "colab": {
          "base_uri": "https://localhost:8080/",
          "height": 206
        },
        "id": "EXliwlcQ2I1l",
        "outputId": "840d4256-e707-4122-9130-097f0a76e77c"
      },
      "execution_count": 64,
      "outputs": [
        {
          "output_type": "execute_result",
          "data": {
            "text/plain": [
              "   Iy  PF   e  dIf    If\n",
              "0   3  66  34  383  1563\n",
              "1   3  68  32  372  1552\n",
              "2   3   7   3   36   154\n",
              "3   3  72  28  338  1518\n",
              "4   3  74  26  317  1497"
            ],
            "text/html": [
              "\n",
              "  <div id=\"df-49974ca0-394e-4702-8c2a-c27b50ec1648\" class=\"colab-df-container\">\n",
              "    <div>\n",
              "<style scoped>\n",
              "    .dataframe tbody tr th:only-of-type {\n",
              "        vertical-align: middle;\n",
              "    }\n",
              "\n",
              "    .dataframe tbody tr th {\n",
              "        vertical-align: top;\n",
              "    }\n",
              "\n",
              "    .dataframe thead th {\n",
              "        text-align: right;\n",
              "    }\n",
              "</style>\n",
              "<table border=\"1\" class=\"dataframe\">\n",
              "  <thead>\n",
              "    <tr style=\"text-align: right;\">\n",
              "      <th></th>\n",
              "      <th>Iy</th>\n",
              "      <th>PF</th>\n",
              "      <th>e</th>\n",
              "      <th>dIf</th>\n",
              "      <th>If</th>\n",
              "    </tr>\n",
              "  </thead>\n",
              "  <tbody>\n",
              "    <tr>\n",
              "      <th>0</th>\n",
              "      <td>3</td>\n",
              "      <td>66</td>\n",
              "      <td>34</td>\n",
              "      <td>383</td>\n",
              "      <td>1563</td>\n",
              "    </tr>\n",
              "    <tr>\n",
              "      <th>1</th>\n",
              "      <td>3</td>\n",
              "      <td>68</td>\n",
              "      <td>32</td>\n",
              "      <td>372</td>\n",
              "      <td>1552</td>\n",
              "    </tr>\n",
              "    <tr>\n",
              "      <th>2</th>\n",
              "      <td>3</td>\n",
              "      <td>7</td>\n",
              "      <td>3</td>\n",
              "      <td>36</td>\n",
              "      <td>154</td>\n",
              "    </tr>\n",
              "    <tr>\n",
              "      <th>3</th>\n",
              "      <td>3</td>\n",
              "      <td>72</td>\n",
              "      <td>28</td>\n",
              "      <td>338</td>\n",
              "      <td>1518</td>\n",
              "    </tr>\n",
              "    <tr>\n",
              "      <th>4</th>\n",
              "      <td>3</td>\n",
              "      <td>74</td>\n",
              "      <td>26</td>\n",
              "      <td>317</td>\n",
              "      <td>1497</td>\n",
              "    </tr>\n",
              "  </tbody>\n",
              "</table>\n",
              "</div>\n",
              "    <div class=\"colab-df-buttons\">\n",
              "\n",
              "  <div class=\"colab-df-container\">\n",
              "    <button class=\"colab-df-convert\" onclick=\"convertToInteractive('df-49974ca0-394e-4702-8c2a-c27b50ec1648')\"\n",
              "            title=\"Convert this dataframe to an interactive table.\"\n",
              "            style=\"display:none;\">\n",
              "\n",
              "  <svg xmlns=\"http://www.w3.org/2000/svg\" height=\"24px\" viewBox=\"0 -960 960 960\">\n",
              "    <path d=\"M120-120v-720h720v720H120Zm60-500h600v-160H180v160Zm220 220h160v-160H400v160Zm0 220h160v-160H400v160ZM180-400h160v-160H180v160Zm440 0h160v-160H620v160ZM180-180h160v-160H180v160Zm440 0h160v-160H620v160Z\"/>\n",
              "  </svg>\n",
              "    </button>\n",
              "\n",
              "  <style>\n",
              "    .colab-df-container {\n",
              "      display:flex;\n",
              "      gap: 12px;\n",
              "    }\n",
              "\n",
              "    .colab-df-convert {\n",
              "      background-color: #E8F0FE;\n",
              "      border: none;\n",
              "      border-radius: 50%;\n",
              "      cursor: pointer;\n",
              "      display: none;\n",
              "      fill: #1967D2;\n",
              "      height: 32px;\n",
              "      padding: 0 0 0 0;\n",
              "      width: 32px;\n",
              "    }\n",
              "\n",
              "    .colab-df-convert:hover {\n",
              "      background-color: #E2EBFA;\n",
              "      box-shadow: 0px 1px 2px rgba(60, 64, 67, 0.3), 0px 1px 3px 1px rgba(60, 64, 67, 0.15);\n",
              "      fill: #174EA6;\n",
              "    }\n",
              "\n",
              "    .colab-df-buttons div {\n",
              "      margin-bottom: 4px;\n",
              "    }\n",
              "\n",
              "    [theme=dark] .colab-df-convert {\n",
              "      background-color: #3B4455;\n",
              "      fill: #D2E3FC;\n",
              "    }\n",
              "\n",
              "    [theme=dark] .colab-df-convert:hover {\n",
              "      background-color: #434B5C;\n",
              "      box-shadow: 0px 1px 3px 1px rgba(0, 0, 0, 0.15);\n",
              "      filter: drop-shadow(0px 1px 2px rgba(0, 0, 0, 0.3));\n",
              "      fill: #FFFFFF;\n",
              "    }\n",
              "  </style>\n",
              "\n",
              "    <script>\n",
              "      const buttonEl =\n",
              "        document.querySelector('#df-49974ca0-394e-4702-8c2a-c27b50ec1648 button.colab-df-convert');\n",
              "      buttonEl.style.display =\n",
              "        google.colab.kernel.accessAllowed ? 'block' : 'none';\n",
              "\n",
              "      async function convertToInteractive(key) {\n",
              "        const element = document.querySelector('#df-49974ca0-394e-4702-8c2a-c27b50ec1648');\n",
              "        const dataTable =\n",
              "          await google.colab.kernel.invokeFunction('convertToInteractive',\n",
              "                                                    [key], {});\n",
              "        if (!dataTable) return;\n",
              "\n",
              "        const docLinkHtml = 'Like what you see? Visit the ' +\n",
              "          '<a target=\"_blank\" href=https://colab.research.google.com/notebooks/data_table.ipynb>data table notebook</a>'\n",
              "          + ' to learn more about interactive tables.';\n",
              "        element.innerHTML = '';\n",
              "        dataTable['output_type'] = 'display_data';\n",
              "        await google.colab.output.renderOutput(dataTable, element);\n",
              "        const docLink = document.createElement('div');\n",
              "        docLink.innerHTML = docLinkHtml;\n",
              "        element.appendChild(docLink);\n",
              "      }\n",
              "    </script>\n",
              "  </div>\n",
              "\n",
              "\n",
              "<div id=\"df-9e8230f1-f699-4054-aa33-915f85ec71c4\">\n",
              "  <button class=\"colab-df-quickchart\" onclick=\"quickchart('df-9e8230f1-f699-4054-aa33-915f85ec71c4')\"\n",
              "            title=\"Suggest charts\"\n",
              "            style=\"display:none;\">\n",
              "\n",
              "<svg xmlns=\"http://www.w3.org/2000/svg\" height=\"24px\"viewBox=\"0 0 24 24\"\n",
              "     width=\"24px\">\n",
              "    <g>\n",
              "        <path d=\"M19 3H5c-1.1 0-2 .9-2 2v14c0 1.1.9 2 2 2h14c1.1 0 2-.9 2-2V5c0-1.1-.9-2-2-2zM9 17H7v-7h2v7zm4 0h-2V7h2v10zm4 0h-2v-4h2v4z\"/>\n",
              "    </g>\n",
              "</svg>\n",
              "  </button>\n",
              "\n",
              "<style>\n",
              "  .colab-df-quickchart {\n",
              "      --bg-color: #E8F0FE;\n",
              "      --fill-color: #1967D2;\n",
              "      --hover-bg-color: #E2EBFA;\n",
              "      --hover-fill-color: #174EA6;\n",
              "      --disabled-fill-color: #AAA;\n",
              "      --disabled-bg-color: #DDD;\n",
              "  }\n",
              "\n",
              "  [theme=dark] .colab-df-quickchart {\n",
              "      --bg-color: #3B4455;\n",
              "      --fill-color: #D2E3FC;\n",
              "      --hover-bg-color: #434B5C;\n",
              "      --hover-fill-color: #FFFFFF;\n",
              "      --disabled-bg-color: #3B4455;\n",
              "      --disabled-fill-color: #666;\n",
              "  }\n",
              "\n",
              "  .colab-df-quickchart {\n",
              "    background-color: var(--bg-color);\n",
              "    border: none;\n",
              "    border-radius: 50%;\n",
              "    cursor: pointer;\n",
              "    display: none;\n",
              "    fill: var(--fill-color);\n",
              "    height: 32px;\n",
              "    padding: 0;\n",
              "    width: 32px;\n",
              "  }\n",
              "\n",
              "  .colab-df-quickchart:hover {\n",
              "    background-color: var(--hover-bg-color);\n",
              "    box-shadow: 0 1px 2px rgba(60, 64, 67, 0.3), 0 1px 3px 1px rgba(60, 64, 67, 0.15);\n",
              "    fill: var(--button-hover-fill-color);\n",
              "  }\n",
              "\n",
              "  .colab-df-quickchart-complete:disabled,\n",
              "  .colab-df-quickchart-complete:disabled:hover {\n",
              "    background-color: var(--disabled-bg-color);\n",
              "    fill: var(--disabled-fill-color);\n",
              "    box-shadow: none;\n",
              "  }\n",
              "\n",
              "  .colab-df-spinner {\n",
              "    border: 2px solid var(--fill-color);\n",
              "    border-color: transparent;\n",
              "    border-bottom-color: var(--fill-color);\n",
              "    animation:\n",
              "      spin 1s steps(1) infinite;\n",
              "  }\n",
              "\n",
              "  @keyframes spin {\n",
              "    0% {\n",
              "      border-color: transparent;\n",
              "      border-bottom-color: var(--fill-color);\n",
              "      border-left-color: var(--fill-color);\n",
              "    }\n",
              "    20% {\n",
              "      border-color: transparent;\n",
              "      border-left-color: var(--fill-color);\n",
              "      border-top-color: var(--fill-color);\n",
              "    }\n",
              "    30% {\n",
              "      border-color: transparent;\n",
              "      border-left-color: var(--fill-color);\n",
              "      border-top-color: var(--fill-color);\n",
              "      border-right-color: var(--fill-color);\n",
              "    }\n",
              "    40% {\n",
              "      border-color: transparent;\n",
              "      border-right-color: var(--fill-color);\n",
              "      border-top-color: var(--fill-color);\n",
              "    }\n",
              "    60% {\n",
              "      border-color: transparent;\n",
              "      border-right-color: var(--fill-color);\n",
              "    }\n",
              "    80% {\n",
              "      border-color: transparent;\n",
              "      border-right-color: var(--fill-color);\n",
              "      border-bottom-color: var(--fill-color);\n",
              "    }\n",
              "    90% {\n",
              "      border-color: transparent;\n",
              "      border-bottom-color: var(--fill-color);\n",
              "    }\n",
              "  }\n",
              "</style>\n",
              "\n",
              "  <script>\n",
              "    async function quickchart(key) {\n",
              "      const quickchartButtonEl =\n",
              "        document.querySelector('#' + key + ' button');\n",
              "      quickchartButtonEl.disabled = true;  // To prevent multiple clicks.\n",
              "      quickchartButtonEl.classList.add('colab-df-spinner');\n",
              "      try {\n",
              "        const charts = await google.colab.kernel.invokeFunction(\n",
              "            'suggestCharts', [key], {});\n",
              "      } catch (error) {\n",
              "        console.error('Error during call to suggestCharts:', error);\n",
              "      }\n",
              "      quickchartButtonEl.classList.remove('colab-df-spinner');\n",
              "      quickchartButtonEl.classList.add('colab-df-quickchart-complete');\n",
              "    }\n",
              "    (() => {\n",
              "      let quickchartButtonEl =\n",
              "        document.querySelector('#df-9e8230f1-f699-4054-aa33-915f85ec71c4 button');\n",
              "      quickchartButtonEl.style.display =\n",
              "        google.colab.kernel.accessAllowed ? 'block' : 'none';\n",
              "    })();\n",
              "  </script>\n",
              "</div>\n",
              "\n",
              "    </div>\n",
              "  </div>\n"
            ]
          },
          "metadata": {},
          "execution_count": 64
        }
      ]
    },
    {
      "cell_type": "code",
      "source": [
        "# get numpy data\n",
        "numpy_data = data.values"
      ],
      "metadata": {
        "id": "710a6Vvd2PP7"
      },
      "execution_count": 65,
      "outputs": []
    },
    {
      "cell_type": "code",
      "source": [
        "#(b) Convert the Numpy array to PyTorch tensor, original data tensor.\n",
        "\n",
        "original_data_tensor = torch.from_numpy(numpy_data)\n"
      ],
      "metadata": {
        "id": "HRIGXMM_5JU8"
      },
      "execution_count": 66,
      "outputs": []
    },
    {
      "cell_type": "markdown",
      "source": [
        "##Question 2. Art of ”Tensor Manipulation”"
      ],
      "metadata": {
        "id": "bSKatkzoyF-F"
      }
    },
    {
      "cell_type": "code",
      "source": [
        "# (a) Print the size of the dataset.\n",
        "print('The size of the dataset is: ', original_data_tensor.shape)"
      ],
      "metadata": {
        "colab": {
          "base_uri": "https://localhost:8080/"
        },
        "id": "XqvHSVgsyM-L",
        "outputId": "d3aed91d-fdd3-49fb-e6ea-fc04332b8fdc"
      },
      "execution_count": 67,
      "outputs": [
        {
          "output_type": "stream",
          "name": "stdout",
          "text": [
            "The size of the dataset is:  torch.Size([557, 5])\n"
          ]
        }
      ]
    },
    {
      "cell_type": "markdown",
      "source": [
        "   ### (b) Create a tensor, my pi tensor of same size as original data tensor containing values of 3.142 at every point and placed on your GPU device. Print the first 13 rows. Print tensor device location.Print tensor datatype."
      ],
      "metadata": {
        "id": "4js7wat33NLy"
      }
    },
    {
      "cell_type": "code",
      "source": [
        "#Create a tensor, my pi tensor of same size as original data tensor containing values of 3.142 at every point\n",
        "my_pi_tensor = torch.tensor([557,7])\n",
        "my_pi_tensor = torch.ones(557, 7) * 3.143"
      ],
      "metadata": {
        "id": "tPEm3SsY5_n3"
      },
      "execution_count": 68,
      "outputs": []
    },
    {
      "cell_type": "code",
      "source": [
        "# Set the device to cuda if available\n",
        "device = \"cuda\" if torch.cuda.is_available() else \"cpu\"\n",
        "\n",
        "#Placing tensor tp GPU\n",
        "my_pi_tensor = my_pi_tensor.to(device)\n",
        "\n",
        "# Print the first 13 rows.\n",
        "print(my_pi_tensor[:13])\n",
        "\n",
        "#Print tensor device location.\n",
        "print(\"The device location: \", device)\n",
        "\n",
        "#Print tensor datatype.\n",
        "print('The tensor datatype: ', my_pi_tensor.dtype)"
      ],
      "metadata": {
        "colab": {
          "base_uri": "https://localhost:8080/"
        },
        "id": "egqh7wLLt0gy",
        "outputId": "d59f2bf3-b5f9-4225-c08b-4f79d2e12aaf"
      },
      "execution_count": 69,
      "outputs": [
        {
          "output_type": "stream",
          "name": "stdout",
          "text": [
            "tensor([[3.1430, 3.1430, 3.1430, 3.1430, 3.1430, 3.1430, 3.1430],\n",
            "        [3.1430, 3.1430, 3.1430, 3.1430, 3.1430, 3.1430, 3.1430],\n",
            "        [3.1430, 3.1430, 3.1430, 3.1430, 3.1430, 3.1430, 3.1430],\n",
            "        [3.1430, 3.1430, 3.1430, 3.1430, 3.1430, 3.1430, 3.1430],\n",
            "        [3.1430, 3.1430, 3.1430, 3.1430, 3.1430, 3.1430, 3.1430],\n",
            "        [3.1430, 3.1430, 3.1430, 3.1430, 3.1430, 3.1430, 3.1430],\n",
            "        [3.1430, 3.1430, 3.1430, 3.1430, 3.1430, 3.1430, 3.1430],\n",
            "        [3.1430, 3.1430, 3.1430, 3.1430, 3.1430, 3.1430, 3.1430],\n",
            "        [3.1430, 3.1430, 3.1430, 3.1430, 3.1430, 3.1430, 3.1430],\n",
            "        [3.1430, 3.1430, 3.1430, 3.1430, 3.1430, 3.1430, 3.1430],\n",
            "        [3.1430, 3.1430, 3.1430, 3.1430, 3.1430, 3.1430, 3.1430],\n",
            "        [3.1430, 3.1430, 3.1430, 3.1430, 3.1430, 3.1430, 3.1430],\n",
            "        [3.1430, 3.1430, 3.1430, 3.1430, 3.1430, 3.1430, 3.1430]],\n",
            "       device='cuda:0')\n",
            "The device location:  cuda\n",
            "The tensor datatype:  torch.float32\n"
          ]
        }
      ]
    },
    {
      "cell_type": "markdown",
      "source": [
        "### (c) Print the fifth-root of the sum of all values in my pi tensor."
      ],
      "metadata": {
        "id": "XVQKUZo655z7"
      }
    },
    {
      "cell_type": "code",
      "source": [
        "# (c) Print the fifth-root of the sum of all values in my pi tensor.\n",
        "import math\n",
        "tensor_sum = my_pi_tensor.sum() # Get the Sum\n",
        "tensor_fift_root = pow(tensor_sum, 0.2) # Get the fift root\n",
        "print('The fift-root is the tensor: ', tensor_fift_root)"
      ],
      "metadata": {
        "colab": {
          "base_uri": "https://localhost:8080/"
        },
        "id": "5lU6kTS3xBGD",
        "outputId": "90ccc3a5-4ccc-4658-e63e-4f5792eb2b0d"
      },
      "execution_count": 70,
      "outputs": [
        {
          "output_type": "stream",
          "name": "stdout",
          "text": [
            "The fift-root is the tensor:  tensor(6.5714, device='cuda:0')\n"
          ]
        }
      ]
    },
    {
      "cell_type": "markdown",
      "source": [
        "## (d) Create a new tensor, my data tensor using the first and last 100 rows from the original data tensor. Print size of my data tensor. \"[Expect a size of 200 rows]\""
      ],
      "metadata": {
        "id": "JpZBjT4960Vm"
      }
    },
    {
      "cell_type": "code",
      "source": [
        "my_data_tensor1 = original_data_tensor[:100] # Get the first hundred rows\n",
        "my_data_tensor2 = original_data_tensor[-100:] # Get the last hundred rows\n",
        "\n",
        "# Combine the first and last handred rows and make th datatype float64\n",
        "my_data_tensor = torch.cat((my_data_tensor1, my_data_tensor2), 0).type(torch.float64)\n",
        "\n",
        "# print the shape of the combination\n",
        "print('The shape of new tensor: ', my_data_tensor.shape)"
      ],
      "metadata": {
        "colab": {
          "base_uri": "https://localhost:8080/"
        },
        "id": "YQ-myvwZ13b0",
        "outputId": "d2585fdc-0d91-4dc5-f753-f9d92bf320c3"
      },
      "execution_count": 71,
      "outputs": [
        {
          "output_type": "stream",
          "name": "stdout",
          "text": [
            "The shape of new tensor:  torch.Size([200, 5])\n"
          ]
        }
      ]
    },
    {
      "cell_type": "markdown",
      "source": [
        "## (e) Create two 1-D tensors, features and target from my data tensor. The feature is dIf (Changing of excitation current of synchronous machine) I) column and target is If (Excitation current of synchronous machine)."
      ],
      "metadata": {
        "id": "u5ya0OIq8uhT"
      }
    },
    {
      "cell_type": "code",
      "source": [
        "# Create two 1-D tensors\n",
        "X = my_data_tensor.unsqueeze(dim=1)\n",
        "x = X[:, :, 3] # creat feature of dIf column\n",
        "y = X[:, :, -1] # creat target of If column\n",
        "x.shape, y.shape, x.dtype, y.dtype"
      ],
      "metadata": {
        "colab": {
          "base_uri": "https://localhost:8080/"
        },
        "id": "TD2F9MCP63Uy",
        "outputId": "e289ef8b-fb1f-49b2-afaa-604696341d08"
      },
      "execution_count": 72,
      "outputs": [
        {
          "output_type": "execute_result",
          "data": {
            "text/plain": [
              "(torch.Size([200, 1]), torch.Size([200, 1]), torch.float64, torch.float64)"
            ]
          },
          "metadata": {},
          "execution_count": 72
        }
      ]
    },
    {
      "cell_type": "markdown",
      "source": [
        "### (f) Split  data into training and test data of ratio 75:25 respectively."
      ],
      "metadata": {
        "id": "ZoWWyado-cr5"
      }
    },
    {
      "cell_type": "code",
      "source": [
        "# Create train/test by splitting\n",
        "train_partition = int(0.75 * len(x)) # 75% of data used for training set, 25% for testing\n",
        "X_train, y_train = x[:train_partition], y[:train_partition]\n",
        "X_test, y_test = x[train_partition:], y[train_partition:]\n",
        "\n",
        "len(X_train), len(y_train), len(X_test), len(y_test)"
      ],
      "metadata": {
        "colab": {
          "base_uri": "https://localhost:8080/"
        },
        "id": "jjDWC09FY7LS",
        "outputId": "731e4f68-63b0-4db6-eeb5-b1cc7892eac4"
      },
      "execution_count": 73,
      "outputs": [
        {
          "output_type": "execute_result",
          "data": {
            "text/plain": [
              "(150, 150, 50, 50)"
            ]
          },
          "metadata": {},
          "execution_count": 73
        }
      ]
    },
    {
      "cell_type": "markdown",
      "source": [
        "# 2. PyTorch Workflow Fundamentals"
      ],
      "metadata": {
        "id": "NDRa87lR-t5Z"
      }
    },
    {
      "cell_type": "code",
      "source": [
        "# Question 3. Define your Linear model structure. You can use existing model.\n",
        "from torch import nn # to import nn contains all of PyTorch's building blocks for neural networks\n",
        "# Subclass nn.Module to make our model\n",
        "class LinearRegressionModelV2(nn.Module):\n",
        "    def __init__(self):\n",
        "        super().__init__()\n",
        "        # Use nn.Linear() for creating the model parameters\n",
        "        self.linear_layer = nn.Linear(in_features=1,\n",
        "                                      dtype=torch.float64,\n",
        "                                      out_features=1)\n",
        "\n",
        "    # Define the forward computation (input data x flows through nn.Linear())\n",
        "    def forward(self, x: torch.Tensor) -> torch.Tensor:\n",
        "        return self.linear_layer(x)\n",
        "\n",
        "# Set the manual seed when creating the model\n",
        "torch.manual_seed(1234)\n",
        "model_1 = LinearRegressionModelV2()\n",
        "model_1, model_1.state_dict()"
      ],
      "metadata": {
        "colab": {
          "base_uri": "https://localhost:8080/"
        },
        "id": "wuY32g-Pa_N8",
        "outputId": "0837583f-54c0-4a3b-aabf-1b6a68be0a77"
      },
      "execution_count": 74,
      "outputs": [
        {
          "output_type": "execute_result",
          "data": {
            "text/plain": [
              "(LinearRegressionModelV2(\n",
              "   (linear_layer): Linear(in_features=1, out_features=1, bias=True)\n",
              " ),\n",
              " OrderedDict([('linear_layer.weight',\n",
              "               tensor([[-0.5363]], dtype=torch.float64)),\n",
              "              ('linear_layer.bias', tensor([-0.8425], dtype=torch.float64))]))"
            ]
          },
          "metadata": {},
          "execution_count": 74
        }
      ]
    },
    {
      "cell_type": "code",
      "source": [
        "# Create loss function\n",
        "loss_fn = nn.L1Loss()\n",
        "\n",
        "# Create optimizer\n",
        "optimizer = torch.optim.SGD(params=model_1.parameters(), # optimize newly created model's parameters\n",
        "                            lr=0.01)"
      ],
      "metadata": {
        "id": "nx_yGGjncTbu"
      },
      "execution_count": 75,
      "outputs": []
    },
    {
      "cell_type": "markdown",
      "source": [
        "### Question 4. Train model for any number of epochs. Generate 1 plot of Loss against Epoch during model training and testing. Choose any set of hyperparameters for model training."
      ],
      "metadata": {
        "id": "bd9ot7xZ_Rq9"
      }
    },
    {
      "cell_type": "code",
      "source": [
        "torch.manual_seed(42)\n",
        "\n",
        "# Set the number of epochs (how many times the model will pass over the training data)\n",
        "epochs = 300\n",
        "\n",
        "# Create empty loss lists to track values\n",
        "train_loss_val = []\n",
        "test_loss_val = []\n",
        "epoch_count = []\n",
        "\n",
        "for epoch in range(epochs):\n",
        "    ### Training\n",
        "\n",
        "    # Put model in training mode (this is the default state of a model)\n",
        "    model_1.train()\n",
        "\n",
        "    # 1. Forward pass on train data using the forward() method inside\n",
        "    y_pred = model_1(X_train)\n",
        "    # print(y_pred)\n",
        "\n",
        "    # 2. Calculate the loss (how different are our models predictions to the ground truth)\n",
        "    loss = loss_fn(y_pred, y_train)\n",
        "\n",
        "    # 3. Zero grad of the optimizer\n",
        "    optimizer.zero_grad()\n",
        "\n",
        "    # 4. Loss backwards\n",
        "    loss.backward()\n",
        "\n",
        "    # 5. Progress the optimizer\n",
        "    optimizer.step()\n",
        "\n",
        "    ### Testing\n",
        "\n",
        "    # Put the model in evaluation mode\n",
        "    model_1.eval()\n",
        "\n",
        "    with torch.inference_mode():\n",
        "      # 1. Forward pass on test data\n",
        "      test_pred = model_1(X_test)\n",
        "\n",
        "      # 2. Caculate loss on test data\n",
        "      test_loss = loss_fn(test_pred, y_test.type(torch.float))\n",
        "\n",
        "      # Print out what's happening\n",
        "      if epoch % 10 == 0:\n",
        "            epoch_count.append(epoch)\n",
        "            train_loss_val.append(loss.detach().numpy())\n",
        "            test_loss_val.append(test_loss.detach().numpy())\n",
        "            print(f\"Epoch: {epoch} | MAE Train Loss: {loss} | MAE Test Loss: {test_loss} \")"
      ],
      "metadata": {
        "colab": {
          "base_uri": "https://localhost:8080/"
        },
        "id": "WeYtLzJ7eFF4",
        "outputId": "5c644e54-69dd-4fc8-96fb-b39695829bda"
      },
      "execution_count": 76,
      "outputs": [
        {
          "output_type": "stream",
          "name": "stdout",
          "text": [
            "Epoch: 0 | MAE Train Loss: 1483.566702628428 | MAE Test Loss: 538.0153617568004 \n",
            "Epoch: 10 | MAE Train Loss: 451.05893076125534 | MAE Test Loss: 398.9681492212673 \n",
            "Epoch: 20 | MAE Train Loss: 446.8678425464686 | MAE Test Loss: 407.0668902578258 \n",
            "Epoch: 30 | MAE Train Loss: 450.8005485390331 | MAE Test Loss: 398.4956692212673 \n",
            "Epoch: 40 | MAE Train Loss: 446.6312914353575 | MAE Test Loss: 406.54993025782585 \n",
            "Epoch: 50 | MAE Train Loss: 450.54216631681095 | MAE Test Loss: 398.0231892212674 \n",
            "Epoch: 60 | MAE Train Loss: 446.3947403242464 | MAE Test Loss: 406.0329702578259 \n",
            "Epoch: 70 | MAE Train Loss: 450.28378409458867 | MAE Test Loss: 397.5507092212675 \n",
            "Epoch: 80 | MAE Train Loss: 446.15818921313524 | MAE Test Loss: 405.516010257826 \n",
            "Epoch: 90 | MAE Train Loss: 450.0254018723666 | MAE Test Loss: 397.0782292212675 \n",
            "Epoch: 100 | MAE Train Loss: 445.92163810202425 | MAE Test Loss: 404.99905025782607 \n",
            "Epoch: 110 | MAE Train Loss: 449.76701965014433 | MAE Test Loss: 396.63990378210656 \n",
            "Epoch: 120 | MAE Train Loss: 445.68508699091313 | MAE Test Loss: 404.48209025782603 \n",
            "Epoch: 130 | MAE Train Loss: 449.5086374279222 | MAE Test Loss: 396.21254378210665 \n",
            "Epoch: 140 | MAE Train Loss: 445.4485358798021 | MAE Test Loss: 403.9651302578262 \n",
            "Epoch: 150 | MAE Train Loss: 449.25025520569994 | MAE Test Loss: 395.8058689425119 \n",
            "Epoch: 160 | MAE Train Loss: 445.2119847686909 | MAE Test Loss: 403.4481702578262 \n",
            "Epoch: 170 | MAE Train Loss: 448.9918729834778 | MAE Test Loss: 395.42373560917855 \n",
            "Epoch: 180 | MAE Train Loss: 444.9754336575798 | MAE Test Loss: 402.9369812212678 \n",
            "Epoch: 190 | MAE Train Loss: 448.73349076125555 | MAE Test Loss: 395.04160227584526 \n",
            "Epoch: 200 | MAE Train Loss: 444.7388825464688 | MAE Test Loss: 402.4645012212679 \n",
            "Epoch: 210 | MAE Train Loss: 448.4751085390333 | MAE Test Loss: 394.65946894251204 \n",
            "Epoch: 220 | MAE Train Loss: 444.50233143535775 | MAE Test Loss: 401.99202122126786 \n",
            "Epoch: 230 | MAE Train Loss: 448.2167263168112 | MAE Test Loss: 394.2773356091787 \n",
            "Epoch: 240 | MAE Train Loss: 444.2657803242465 | MAE Test Loss: 401.51954122126796 \n",
            "Epoch: 250 | MAE Train Loss: 447.95834409458894 | MAE Test Loss: 393.89520227584535 \n",
            "Epoch: 260 | MAE Train Loss: 444.0292292131355 | MAE Test Loss: 401.047061221268 \n",
            "Epoch: 270 | MAE Train Loss: 447.6999618723667 | MAE Test Loss: 393.5130689425122 \n",
            "Epoch: 280 | MAE Train Loss: 443.7926781020246 | MAE Test Loss: 400.57458122126786 \n",
            "Epoch: 290 | MAE Train Loss: 447.44157965014455 | MAE Test Loss: 393.13093560917883 \n"
          ]
        }
      ]
    },
    {
      "cell_type": "code",
      "source": [
        "import matplotlib.pyplot as plt"
      ],
      "metadata": {
        "id": "QsjmfAmHqGSM"
      },
      "execution_count": 77,
      "outputs": []
    },
    {
      "cell_type": "code",
      "source": [
        "# Plot the loss curves\n",
        "plt.plot(epoch_count, train_loss_val, label=\"Train loss\")\n",
        "plt.plot(epoch_count, test_loss_val, label=\"Test loss\")\n",
        "plt.title(\"Training and test loss curves\")\n",
        "plt.ylabel(\"Loss\")\n",
        "plt.xlabel(\"Epochs\")\n",
        "plt.legend();"
      ],
      "metadata": {
        "colab": {
          "base_uri": "https://localhost:8080/",
          "height": 472
        },
        "id": "z3Al1fHwptRH",
        "outputId": "415b3d5f-5a74-4622-90a3-265ca0f11463"
      },
      "execution_count": 78,
      "outputs": [
        {
          "output_type": "display_data",
          "data": {
            "text/plain": [
              "<Figure size 640x480 with 1 Axes>"
            ],
            "image/png": "[encoded data removed]"
          },
          "metadata": {}
        }
      ]
    },
    {
      "cell_type": "code",
      "source": [
        "print(\"The model learned the following values for weights and bias:\")\n",
        "print(model_1.state_dict())"
      ],
      "metadata": {
        "colab": {
          "base_uri": "https://localhost:8080/"
        },
        "id": "GH6AHw23srPW",
        "outputId": "ad03ce8b-6b0d-4757-c468-33dc8776992b"
      },
      "execution_count": 79,
      "outputs": [
        {
          "output_type": "stream",
          "name": "stdout",
          "text": [
            "The model learned the following values for weights and bias:\n",
            "OrderedDict([('linear_layer.weight', tensor([[4.4470]], dtype=torch.float64)), ('linear_layer.bias', tensor([0.4067], dtype=torch.float64))])\n"
          ]
        }
      ]
    },
    {
      "cell_type": "code",
      "source": [
        "# 1. Set the model in evaluation mode\n",
        "model_1.eval()\n",
        "\n",
        "# 2. Setup the inference mode context manager\n",
        "with torch.inference_mode():\n",
        "  # 3. Make sure the calculations are done with the model and data on the same device\n",
        "  # in our case, we haven't setup device-agnostic code yet so our data and model are\n",
        "  # on the CPU by default.\n",
        "  # model_0.to(device)\n",
        "  # X_test = X_test.to(device)\n",
        "  y_preds = model_1(X_test)\n",
        "y_preds"
      ],
      "metadata": {
        "colab": {
          "base_uri": "https://localhost:8080/"
        },
        "id": "NQsZ_VL4tTUp",
        "outputId": "e7a4af1f-bf87-4c62-8723-de424eea6da8"
      },
      "execution_count": 80,
      "outputs": [
        {
          "output_type": "execute_result",
          "data": {
            "text/plain": [
              "tensor([[2899.8518],\n",
              "        [3033.2619],\n",
              "        [2512.9627],\n",
              "        [2557.4327],\n",
              "        [2023.7925],\n",
              "        [2094.9445],\n",
              "        [2166.0965],\n",
              "        [1543.5163],\n",
              "        [1579.0923],\n",
              "        [ 916.4891],\n",
              "        [ 952.0651],\n",
              "        [ 969.8531],\n",
              "        [ 969.8531],\n",
              "        [ 969.8531],\n",
              "        [3384.5750],\n",
              "        [3117.7549],\n",
              "        [3215.5889],\n",
              "        [2761.9947],\n",
              "        [2850.9348],\n",
              "        [2962.1098],\n",
              "        [2450.7046],\n",
              "        [ 249.4388],\n",
              "        [1943.7464],\n",
              "        [2019.3455],\n",
              "        [2077.1565],\n",
              "        [1454.5763],\n",
              "        [1485.7053],\n",
              "        [ 823.1020],\n",
              "        [ 854.2310],\n",
              "        [ 840.8900],\n",
              "        [ 840.8900],\n",
              "        [ 840.8900],\n",
              "        [3420.1510],\n",
              "        [3033.2619],\n",
              "        [3171.1189],\n",
              "        [2637.4787],\n",
              "        [2766.4418],\n",
              "        [2895.4048],\n",
              "        [2335.0826],\n",
              "        [2392.8936],\n",
              "        [1783.6544],\n",
              "        [1885.9354],\n",
              "        [1992.6635],\n",
              "        [ 129.3698],\n",
              "        [1338.9542],\n",
              "        [ 631.8809],\n",
              "        [ 671.9040],\n",
              "        [  71.5587],\n",
              "        [  71.5587],\n",
              "        [  71.5587]], dtype=torch.float64)"
            ]
          },
          "metadata": {},
          "execution_count": 80
        }
      ]
    },
    {
      "cell_type": "code",
      "source": [
        "def plot_predictions(train_data=X_train,\n",
        "                     train_labels=y_train,\n",
        "                     test_data=X_test,\n",
        "                     test_labels=y_test,\n",
        "                     predictions=None):\n",
        "  \"\"\"\n",
        "  Plots training data, test data and compares predictions.\n",
        "  \"\"\"\n",
        "  plt.figure(figsize=(10, 7))\n",
        "\n",
        "  # Plot training data in blue\n",
        "  plt.scatter(train_data, train_labels, c=\"b\", s=4, label=\"Training data\")\n",
        "\n",
        "  # Plot test data in green\n",
        "  plt.scatter(test_data, test_labels, c=\"g\", s=4, label=\"Testing data\")\n",
        "\n",
        "  if predictions is not None:\n",
        "    # Plot the predictions in red (predictions were made on the test data)\n",
        "    plt.scatter(test_data, predictions, c=\"r\", s=4, label=\"Predictions\")\n",
        "\n",
        "  # Show the legend\n",
        "  plt.legend(prop={\"size\": 14});\n",
        "\n",
        "plot_predictions(predictions=y_preds)"
      ],
      "metadata": {
        "colab": {
          "base_uri": "https://localhost:8080/",
          "height": 599
        },
        "id": "m8vPRxDltqG_",
        "outputId": "20218e2e-3cd0-49af-98a3-92c8885b7c1f"
      },
      "execution_count": 81,
      "outputs": [
        {
          "output_type": "display_data",
          "data": {
            "text/plain": [
              "<Figure size 1000x700 with 1 Axes>"
            ],
            "image/png": "[encoded data removed]"
          },
          "metadata": {}
        }
      ]
    },
    {
      "cell_type": "markdown",
      "source": [
        "### Question 5. Briefly comment on your results. What could be done to make the model or prediction better? (< 60 words)"
      ],
      "metadata": {
        "id": "8xw9ZEd6_doF"
      }
    },
    {
      "cell_type": "markdown",
      "source": [
        "## Comment:\n",
        "#### The model used is possibly not suitable, or we should have a larger dataset to better train the model for better prediction.\n"
      ],
      "metadata": {
        "id": "1Oj6pJKt_rSv"
      }
    }
  ]
}